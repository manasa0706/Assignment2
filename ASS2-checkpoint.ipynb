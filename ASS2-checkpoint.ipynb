{
 "cells": [
  {
   "cell_type": "code",
   "execution_count": null,
   "id": "d7b8a88b",
   "metadata": {},
   "outputs": [],
   "source": [
    "#QUESTION 1\n",
    "#take 2  integers from the user and pass them to the fullname function that returns\n",
    "#write a function \"string_alternative\" that returns every other char in the full name"
   ]
  },
  {
   "cell_type": "code",
   "execution_count": 9,
   "id": "773ce16a",
   "metadata": {},
   "outputs": [
    {
     "name": "stdout",
     "output_type": "stream",
     "text": [
      "Please enter FirstName:\n",
      "manasa\n",
      "Please enter LastName:\n",
      "goud\n",
      "manasa goud\n",
      "mns od\n"
     ]
    }
   ],
   "source": [
    "print(\"Please enter FirstName:\")\n",
    "First_name = input();\n",
    "print(\"Please enter LastName:\")\n",
    "last_name = input();\n",
    "class Name:\n",
    "    def Fullname(self, FirstName, LastName):\n",
    "        Full_name = FirstName + \" \" + LastName\n",
    "        return Full_name\n",
    "    def string_alternative(self, Full_name):\n",
    "        output = ''\n",
    "        for i in range(len(Full_name)):\n",
    "            if (i % 2 == 0):\n",
    "                output = output + Full_name[i]\n",
    "        print(output)\n",
    "def main():\n",
    "    Objname = Name()\n",
    "    print(Objname.Fullname(First_name, last_name))\n",
    "    Objname.string_alternative(Objname.Fullname(First_name, last_name))\n",
    "if __name__ == \"__main__\":\n",
    "    main()"
   ]
  },
  {
   "cell_type": "code",
   "execution_count": 6,
   "id": "c11442b1",
   "metadata": {},
   "outputs": [],
   "source": [
    "#QUESTION 2\n",
    "\n",
    "#find out the word count in a file and print it in the output file\n",
    "\n",
    "from collections import Counter\n",
    "\n",
    "with open('C://Users//.ipynb_checkpoints//Neural Networks//input.txt') as f:\n",
    "    lines = f.read()\n",
    "    list_words = (' '.join(lines.splitlines())).split()\n",
    "    ar = str(dict(Counter(list_words)))\n",
    "    with open('C://Users//.ipynb_checkpoints//Neural Networks//output.txt', 'w') as s:\n",
    "        s.write(ar)"
   ]
  },
  {
   "cell_type": "code",
   "execution_count": 8,
   "id": "6a7410a2",
   "metadata": {},
   "outputs": [
    {
     "name": "stdout",
     "output_type": "stream",
     "text": [
      "[381.0, 393.7, 368.3, 375.92]\n"
     ]
    }
   ],
   "source": [
    "#QUESTION 3\n",
    "\n",
    "#read the heights in inches and convert them into centimeters and store them in a seperate list\n",
    "def inchestocentimeters():\n",
    "    list1 = [150, 155, 145, 148]\n",
    "    list2 = []\n",
    "    for i in list1:\n",
    "        list2.append(float(i * 2.54))\n",
    "    print(list2)\n",
    "\n",
    "\n",
    "inchestocentimeters()"
   ]
  },
  {
   "cell_type": "code",
   "execution_count": null,
   "id": "0a31874a",
   "metadata": {},
   "outputs": [],
   "source": []
  }
 ],
 "metadata": {
  "kernelspec": {
   "display_name": "Python 3 (ipykernel)",
   "language": "python",
   "name": "python3"
  },
  "language_info": {
   "codemirror_mode": {
    "name": "ipython",
    "version": 3
   },
   "file_extension": ".py",
   "mimetype": "text/x-python",
   "name": "python",
   "nbconvert_exporter": "python",
   "pygments_lexer": "ipython3",
   "version": "3.9.12"
  }
 },
 "nbformat": 4,
 "nbformat_minor": 5
}
